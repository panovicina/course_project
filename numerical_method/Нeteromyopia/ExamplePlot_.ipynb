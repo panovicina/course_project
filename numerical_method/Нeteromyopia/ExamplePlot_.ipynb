{
 "cells": [
  {
   "cell_type": "code",
   "execution_count": null,
   "metadata": {},
   "outputs": [],
   "source": [
    "!pip install cbor2\n",
    "!pip install plotly\n",
    "!pip install pandas"
   ]
  },
  {
   "cell_type": "code",
   "execution_count": 2,
   "metadata": {},
   "outputs": [
    {
     "data": {
      "text/html": [
       "        <script type=\"text/javascript\">\n",
       "        window.PlotlyConfig = {MathJaxConfig: 'local'};\n",
       "        if (window.MathJax && window.MathJax.Hub && window.MathJax.Hub.Config) {window.MathJax.Hub.Config({SVG: {font: \"STIX-Web\"}});}\n",
       "        if (typeof require !== 'undefined') {\n",
       "        require.undef(\"plotly\");\n",
       "        requirejs.config({\n",
       "            paths: {\n",
       "                'plotly': ['https://cdn.plot.ly/plotly-2.26.0.min']\n",
       "            }\n",
       "        });\n",
       "        require(['plotly'], function(Plotly) {\n",
       "            window._Plotly = Plotly;\n",
       "        });\n",
       "        }\n",
       "        </script>\n",
       "        "
      ]
     },
     "metadata": {},
     "output_type": "display_data"
    }
   ],
   "source": [
    "import subprocess\n",
    "from itertools import product\n",
    "import numpy as np\n",
    "import json\n",
    "from copy import deepcopy\n",
    "import cbor2\n",
    "import plotly.graph_objects as go\n",
    "import plotly\n",
    "import plotly.express as px\n",
    "from os import path\n",
    "from plotly.subplots import make_subplots\n",
    "\n",
    "from plotly.offline import init_notebook_mode\n",
    "init_notebook_mode(connected = True)"
   ]
  },
  {
   "cell_type": "code",
   "execution_count": 3,
   "metadata": {},
   "outputs": [],
   "source": [
    "COLORS = {\n",
    "    'N1': 'b',\n",
    "    'N2': 'r',\n",
    "}\n",
    "\n",
    "COOLORS_SCALE = (\n",
    "    'Blues',\n",
    "    'Reds',\n",
    ")\n",
    "\n",
    "'''\n",
    "CMAPS = {\n",
    "    'N1': cm.Blues,\n",
    "    'N2': cm.Reds,\n",
    "}\n",
    "'''\n",
    "\n",
    "LABELS_LATEX = {\n",
    "    'N1': '$N_1$',\n",
    "    'N2': '$N_2$',\n",
    "}\n",
    "\n",
    "def GetPlotParams(n):\n",
    "    return {\n",
    "        'label': LABELS_LATEX[n],\n",
    "        'c': COLORS[n],\n",
    "    }\n",
    "\n",
    "def GetPlotParams3D(n):\n",
    "    return {\n",
    "        #'label': LABELS_LATEX[n],\n",
    "        #'color': COLORS[n],\n",
    "        'cmap': CMAPS[n],\n",
    "    }"
   ]
  },
  {
   "cell_type": "code",
   "execution_count": 4,
   "metadata": {},
   "outputs": [
    {
     "name": "stdout",
     "output_type": "stream",
     "text": [
      "{\n",
      "    \"species\": 2,\n",
      "    \"a\": 4.0,\n",
      "    \"alpha\": 0.2,\n",
      "    \"b\": [\n",
      "        0.4,\n",
      "        0.4\n",
      "    ],\n",
      "    \"points\": 16384,\n",
      "    \"d\": [\n",
      "        0.2,\n",
      "        0.2\n",
      "    ],\n",
      "    \"dd\": [\n",
      "        0.001,\n",
      "        0.001,\n",
      "        0.001,\n",
      "        0.001\n",
      "    ],\n",
      "    \"sigma_m\": [\n",
      "        0.04,\n",
      "        0.06\n",
      "    ],\n",
      "    \"sigma_w\": [\n",
      "        0.04,\n",
      "        0.04,\n",
      "        0.04,\n",
      "        0.04\n",
      "    ],\n",
      "    \"title\": \"HM_3D\",\n",
      "    \"dim\": 3,\n",
      "    \"x_label\": \"swii\",\n",
      "    \"y_label\": \"swij\",\n",
      "    \"x_len\": 30,\n",
      "    \"y_len\": 30\n",
      "}\n"
     ]
    }
   ],
   "source": [
    "FILE_PATH = 'HM_3D.json'\n",
    "\n",
    "with open(FILE_PATH, 'r') as f:\n",
    "    params = json.load(f)\n",
    "\n",
    "base_shape = (params['x_len'], params['y_len'])\n",
    "x_vec = np.ndarray(shape=base_shape[0])\n",
    "y_vec = np.ndarray(shape=base_shape[1])\n",
    "\n",
    "data_names = params.pop('datas')\n",
    "for data_name in data_names:\n",
    "    x_vec[data_name['i']] = data_name['x']\n",
    "    y_vec[data_name['j']] = data_name['y']\n",
    "\n",
    "points = params['points']\n",
    "species = params['species']\n",
    "title = params['title']\n",
    "x_label = params['x_label']\n",
    "y_label = params['y_label']\n",
    "\n",
    "print(json.dumps(params, indent=4))\n",
    "FOLDER = path.join(path.dirname(FILE_PATH), params['title'])"
   ]
  },
  {
   "cell_type": "code",
   "execution_count": 5,
   "metadata": {},
   "outputs": [
    {
     "name": "stdout",
     "output_type": "stream",
     "text": [
      "(2, 2, 30, 30, 16384)\n",
      "(2, 30, 30)\n"
     ]
    }
   ],
   "source": [
    "def get2DArray():\n",
    "    return np.ndarray(shape=base_shape)\n",
    "\n",
    "\n",
    "X, Y = np.meshgrid(x_vec, y_vec, indexing='ij')\n",
    "Ns = np.ndarray(shape=(params['species'],) + base_shape)\n",
    "Ds = np.ndarray(shape=(species, species,) + base_shape + (points,))\n",
    "\n",
    "def FillDatas():\n",
    "    for data_name in data_names:\n",
    "        i = data_name['i']\n",
    "        j = data_name['j']\n",
    "        try:\n",
    "            with open('{0}/{1}.cbor'.format(FOLDER, data_name['name']), 'rb') as f:\n",
    "                obj = cbor2.load(f)\n",
    "                \n",
    "                for k in range(species):\n",
    "                    for l in range(species):\n",
    "                        Ds[k, l, i, j, :] = obj['D_{}_{}'.format(k + 1, l + 1)]\n",
    "                    Ns[k, i, j] = obj['N_{}'.format(k + 1)]\n",
    "        except Exception as e:\n",
    "            print(e)\n",
    "            pass\n",
    "        \n",
    "print(Ds.shape)\n",
    "print(Ns.shape)"
   ]
  },
  {
   "cell_type": "code",
   "execution_count": 6,
   "metadata": {},
   "outputs": [],
   "source": [
    "FillDatas()"
   ]
  },
  {
   "cell_type": "code",
   "execution_count": null,
   "metadata": {},
   "outputs": [],
   "source": [
    "fig = go.Figure()\n",
    "for i in range(species):\n",
    "    fig.add_surface(z=Ns[i], x=X, y=Y, name='N{}'.format(i+1), colorscale=COOLORS_SCALE[i], showscale=False)\n",
    "fig.update_layout(\n",
    "    title='Ns for {title}'.format(title=title),\n",
    "    autosize=True,\n",
    "    width=800,\n",
    "    height=800,\n",
    "    margin=dict(l=65, r=50, b=65, t=90),\n",
    "    scene={\n",
    "        'xaxis_title': x_label,\n",
    "        'yaxis_title': y_label,\n",
    "        'zaxis_title': 'N',\n",
    "    }\n",
    ")\n",
    "fig.show()"
   ]
  },
  {
   "cell_type": "markdown",
   "metadata": {},
   "source": [
    "![Alt text](newplot(2)-1.png)"
   ]
  },
  {
   "cell_type": "code",
   "execution_count": null,
   "metadata": {},
   "outputs": [],
   "source": [
    "contour = np.ndarray(shape=base_shape + (3,), dtype=np.uint8)\n",
    "eps = 0.001\n",
    "\n",
    "contour = get2DArray()\n",
    "contour[np.bitwise_and(Ns[0] < eps, Ns[1] < eps)] = 0     # Оба вымерли\n",
    "contour[np.bitwise_and(Ns[0] >= eps, Ns[1] < eps)] = 1    # Выжил только первый вид\n",
    "contour[np.bitwise_and(Ns[0] < eps, Ns[1] >= eps)] = 2    # Выжил только второй вид\n",
    "contour[np.bitwise_and(Ns[0] >= eps, Ns[1] >= eps)] = 3   # Сосуществование\n",
    "contour = np.rot90(np.flip(contour, (1)))\n",
    "\n",
    "fig = go.Figure()\n",
    "fig.add_heatmap(\n",
    "    z=contour,\n",
    "    x=x_vec,\n",
    "    y=y_vec,\n",
    "    zmin=0,\n",
    "    zmax=3,\n",
    ")\n",
    "fig.update_layout(\n",
    "    title='Ns for {title}'.format(title=title),\n",
    "    autosize=True,\n",
    "    width=800,\n",
    "    height=800,\n",
    "    margin=dict(l=65, r=50, b=65, t=90),\n",
    "    scene={\n",
    "        'xaxis_title': x_label,\n",
    "        'yaxis_title': y_label,\n",
    "        'zaxis_title': 'N',\n",
    "    }\n",
    ")\n",
    "fig.show()"
   ]
  },
  {
   "cell_type": "markdown",
   "metadata": {},
   "source": [
    "![Alt text](newplot(1)-1.png)"
   ]
  },
  {
   "cell_type": "code",
   "execution_count": null,
   "metadata": {},
   "outputs": [],
   "source": [
    "D11 = Ds[0, 0, :, :, 0] + 1\n",
    "D12 = Ds[0, 1, :, :, 0] + 1\n",
    "D22 = Ds[1, 1, :, :, 0] + 1\n",
    "\n",
    "D11[D11 > 10] = np.nan\n",
    "D12[D12 > 20] = np.nan\n",
    "D22[D22 > 100000] = np.nan\n",
    "D11[D11 < 0] = np.nan\n",
    "D12[D12 < 0] = np.nan\n",
    "#D22[D22 < 0] = np.nan\n",
    "\n",
    "fig = make_subplots(rows=1, cols=3, subplot_titles=('C11', 'C12', 'C22'), specs=[[{'type': 'scene'} for _ in range(3)]])\n",
    "fig.add_trace(go.Surface(z=D11, x=X, y=Y, name='D11', colorscale='Reds', showscale=False), row=1, col=1)\n",
    "fig.add_trace(go.Surface(z=D12, x=X, y=Y, name='D12', colorscale='Blues', showscale=False), row=1, col=2)\n",
    "fig.add_trace(go.Surface(z=D22, x=X, y=Y, name='D22', colorscale='Greens', showscale=False), row=1, col=3)\n",
    "fig.update_layout(\n",
    "    title='Вторые моменты в нулевой точке',\n",
    "    autosize=True,\n",
    "    width=2400, height=800,\n",
    "    margin=dict(l=65, r=50, b=65, t=90),\n",
    "    scene={\n",
    "        'xaxis_title': x_label,\n",
    "        'yaxis_title': y_label,\n",
    "        'zaxis_title': 'N',\n",
    "    }\n",
    ")\n",
    "fig.show()"
   ]
  },
  {
   "cell_type": "markdown",
   "metadata": {},
   "source": [
    "![Alt text](output_8_0.png)"
   ]
  },
  {
   "cell_type": "code",
   "execution_count": null,
   "metadata": {},
   "outputs": [],
   "source": [
    "D11 = Ds[0, 0, :, :, -1]\n",
    "D12 = Ds[0, 1, :, :, -1]\n",
    "D22 = Ds[1, 1, :, :, -1]\n",
    "\n",
    "#D11[D11 > 1.03] = np.nan\n",
    "#D12[D12 > 20] = np.nan\n",
    "#D22[D22 > 100000] = np.nan\n",
    "#D11[D11 < 0] = np.nan\n",
    "#D12[D12 < 0] = np.nan\n",
    "#D22[D22 < 0] = np.nan\n",
    "\n",
    "fig = plotly.subplots.make_subplots(rows=1, cols=3, subplot_titles=('C11', 'C12', 'C22'), specs=[[{'type': 'scene'} for _ in range(3)]])\n",
    "fig.add_trace(go.Surface(z=D11, x=X, y=Y, name='D11', colorscale='Reds', showscale=False), row=1, col=1)\n",
    "fig.add_trace(go.Surface(z=D12, x=X, y=Y, name='D12', colorscale='Blues', showscale=False), row=1, col=2)\n",
    "fig.add_trace(go.Surface(z=D22, x=X, y=Y, name='D22', colorscale='Greens', showscale=False), row=1, col=3)\n",
    "fig.update_layout(\n",
    "    title='Вторые моменты в последней точке', autosize=True,\n",
    "    width=2400,\n",
    "    height=800,\n",
    "    margin=dict(l=65, r=50, b=65, t=90),\n",
    "    scene={\n",
    "        'xaxis_title': x_label,\n",
    "        'yaxis_title': y_label,\n",
    "        'zaxis_title': 'N',\n",
    "    }\n",
    ")\n",
    "fig.update_xaxes(title={'text': 'd12'}, showgrid=True)\n",
    "fig.show()"
   ]
  },
  {
   "cell_type": "markdown",
   "metadata": {},
   "source": [
    "![Alt text](output_9_0.png)"
   ]
  },
  {
   "cell_type": "code",
   "execution_count": null,
   "metadata": {},
   "outputs": [],
   "source": [
    "x_i = 15\n",
    "xi_count = 1000\n",
    "\n",
    "D11 = Ds[0, 0, x_i, :, :xi_count]\n",
    "D12 = Ds[0, 1, x_i, :, :xi_count]\n",
    "D22 = Ds[1, 1, x_i, :, :xi_count]\n",
    "\n",
    "XI = np.linspace(0, params['a'], points)\n",
    "\n",
    "X_, Y_ = np.meshgrid(\n",
    "    y_vec,\n",
    "    XI[:xi_count],\n",
    "    indexing='ij',\n",
    ")\n",
    "\n",
    "D11[D11 > 100000] = np.nan\n",
    "D12[D12 > 100000] = np.nan\n",
    "D22[D22 > 100000] = np.nan\n",
    "#D11[D11 < 0] = np.nan\n",
    "#D12[D12 < 0] = np.nan\n",
    "#D22[D22 < 0] = np.nan\n",
    "\n",
    "fig = plotly.subplots.make_subplots(rows=1, cols=3, subplot_titles=('D11', 'D12', 'D22'), specs=[[{'type': 'scene'} for _ in range(3)]])\n",
    "fig.add_trace(go.Surface(z=D11, x=X_, y=Y_, name='D11', colorscale='Reds', showscale=False), row=1, col=1)\n",
    "fig.add_trace(go.Surface(z=D12, x=X_, y=Y_, name='D12', colorscale='Blues', showscale=False), row=1, col=2)\n",
    "fig.add_trace(go.Surface(z=D22, x=X_, y=Y_, name='D22', colorscale='Greens', showscale=False), row=1, col=3)\n",
    "fig.update_layout(\n",
    "    title={\n",
    "        'text': 'Вторые моменты для {}: {} for xi: [0, {}]'.format(x_label, x_vec[x_i], XI[xi_count])\n",
    "    },\n",
    "    autosize=True,\n",
    "    width=2400,\n",
    "    height=800,\n",
    "    margin=dict(\n",
    "        l=65,\n",
    "        r=50,\n",
    "        b=65,\n",
    "        t=90\n",
    "    ),\n",
    "    scene={\n",
    "        'xaxis_title': y_label,\n",
    "        'yaxis_title': 'xi',\n",
    "    }\n",
    ")\n",
    "fig.show()"
   ]
  },
  {
   "cell_type": "markdown",
   "metadata": {},
   "source": [
    "![Alt text](output_10_0.png)"
   ]
  }
 ],
 "metadata": {
  "kernelspec": {
   "display_name": "Python 3 (ipykernel)",
   "language": "python",
   "name": "python3"
  },
  "language_info": {
   "codemirror_mode": {
    "name": "ipython",
    "version": 3
   },
   "file_extension": ".py",
   "mimetype": "text/x-python",
   "name": "python",
   "nbconvert_exporter": "python",
   "pygments_lexer": "ipython3",
   "version": "3.10.6"
  }
 },
 "nbformat": 4,
 "nbformat_minor": 4
}
